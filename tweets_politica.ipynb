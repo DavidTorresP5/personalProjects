{
 "cells": [
  {
   "cell_type": "markdown",
   "metadata": {},
   "source": [
    "# Exploring Spanish politicians 'distance' through their tweets (2015)\n",
    "\n",
    "This is just a brief exploration. Even if the results are quite close to real distances between politicians, we shouldn't conclude any statistical inference from this code.\n",
    "\n",
    "Tweets were retrieved with another python script using the library *tweepy*. I will upload the code in future."
   ]
  },
  {
   "cell_type": "code",
   "execution_count": 1,
   "metadata": {
    "ExecuteTime": {
     "end_time": "2016-10-04T14:02:29.992607",
     "start_time": "2016-10-04T14:02:26.745714"
    },
    "collapsed": false
   },
   "outputs": [
    {
     "name": "stdout",
     "output_type": "stream",
     "text": [
      "David Torres Pascual 2016-10-04 \n",
      "\n",
      "CPython 3.5.2\n",
      "IPython 4.2.0\n",
      "\n",
      "pandas 0.18.1\n",
      "numpy 1.11.1\n",
      "re 2.2.1\n",
      "nltk 3.2.1\n",
      "string n\u0007\n",
      "matplotlib 1.5.1\n",
      "seaborn 0.7.1\n",
      "scipy 0.17.1\n",
      "sklearn 0.18\n"
     ]
    }
   ],
   "source": [
    "#%load_ext watermark\n",
    "%reload_ext watermark\n",
    "\n",
    "%watermark -v -d -a \"David Torres Pascual\" -p pandas,numpy,re,nltk,string,matplotlib,seaborn,scipy,sklearn"
   ]
  },
  {
   "cell_type": "code",
   "execution_count": 2,
   "metadata": {
    "ExecuteTime": {
     "end_time": "2016-10-04T14:02:30.057891",
     "start_time": "2016-10-04T14:02:29.996108"
    },
    "collapsed": false
   },
   "outputs": [],
   "source": [
    "import pandas as pd\n",
    "import numpy as np\n",
    "import re\n",
    "from nltk.corpus import stopwords \n",
    "from nltk.stem.snowball import SpanishStemmer\n",
    "import string\n",
    "import matplotlib.pyplot as plt\n",
    "%matplotlib inline\n",
    "import seaborn as sns\n",
    "plt.style.use('seaborn-white')\n",
    "from scipy.spatial.distance import pdist,squareform\n",
    "from sklearn.feature_extraction.text import CountVectorizer"
   ]
  },
  {
   "cell_type": "code",
   "execution_count": 3,
   "metadata": {
    "ExecuteTime": {
     "end_time": "2016-10-04T14:02:30.197748",
     "start_time": "2016-10-04T14:02:30.057891"
    },
    "collapsed": false
   },
   "outputs": [],
   "source": [
    "def readText(tweets):\n",
    "    url = 'tweets//%s.txt' %tweets\n",
    "    with open(url) as f: # 'r', encoding='utf-8'\n",
    "        tweets = f.readlines()\n",
    "        tweets = [line for line in tweets if line != '\\n']\n",
    "        tweets = [line for line in tweets if line != ['[...]', '(...)']]\n",
    "        return tweets\n",
    "        \n",
    "def loadTweets(tweets):\n",
    "    lista_tw = []\n",
    "    for d in tweets:\n",
    "        t = readText(d)\n",
    "        lista_tw.append(t)\n",
    "    return lista_tw\n",
    "\n",
    "def createDF(texto):\n",
    "    '''\n",
    "    Install and import pandas library as you can read above\n",
    "    '''    \n",
    "    df = pd.DataFrame(texto)\n",
    "    df_stak = df.stack().reset_index()\n",
    "    del df_stak[df_stak.columns[1]]\n",
    "    df_stak.columns = ['politico', 'tweets']\n",
    "    return df_stak"
   ]
  },
  {
   "cell_type": "code",
   "execution_count": 4,
   "metadata": {
    "ExecuteTime": {
     "end_time": "2016-10-04T14:02:30.391536",
     "start_time": "2016-10-04T14:02:30.205755"
    },
    "collapsed": false
   },
   "outputs": [],
   "source": [
    "tweets = ['Tgarzon', 'Tiglesias', 'Tsanchez', 'Trajoy', 'Trivera']\n",
    "\n",
    "d = loadTweets(tweets)\n",
    "df = createDF(d)\n",
    "df['politico'] = tweets"
   ]
  },
  {
   "cell_type": "code",
   "execution_count": 5,
   "metadata": {
    "ExecuteTime": {
     "end_time": "2016-10-04T14:02:42.802831",
     "start_time": "2016-10-04T14:02:30.394975"
    },
    "collapsed": true
   },
   "outputs": [],
   "source": [
    "df['tweets'] = df['tweets'].apply(lambda x: re.sub(r\"http\\S+\", \"\", x))\n",
    "df['tweets'] = df['tweets'].apply(lambda x: re.sub(r\"@\\S+\", \"\", x))\n",
    "df['tweets'] = df['tweets'].apply(lambda x: re.sub(r\"RT\", \"\", x))\n",
    "\n",
    "stop = list(stopwords.words('spanish'))\n",
    "exclude = list(string.punctuation)\n",
    "exclude.extend(['¿', '¡']) \n",
    "stemmer = SpanishStemmer()\n",
    "\n",
    "def clean(doc):\n",
    "    stop_free = \" \".join([i for i in doc.lower().split() if i not in stop])\n",
    "    punc_free = ''.join(ch for ch in stop_free if ch not in exclude)\n",
    "    normalized = \" \".join(stemmer.stem(word) for word in punc_free.split())\n",
    "    return normalized\n",
    "\n",
    "df['tws_limpio'] = df['tweets'].apply(clean)"
   ]
  },
  {
   "cell_type": "code",
   "execution_count": 6,
   "metadata": {
    "ExecuteTime": {
     "end_time": "2016-10-04T14:02:42.821351",
     "start_time": "2016-10-04T14:02:42.806334"
    },
    "collapsed": false
   },
   "outputs": [
    {
     "data": {
      "text/plain": [
       "(5,)"
      ]
     },
     "execution_count": 6,
     "metadata": {},
     "output_type": "execute_result"
    }
   ],
   "source": [
    "corpus = df['tws_limpio']\n",
    "corpus.index = ['Garzón','Iglesias','Sánchez','Rajoy','Rivera']\n",
    "corpus.shape"
   ]
  },
  {
   "cell_type": "code",
   "execution_count": 7,
   "metadata": {
    "ExecuteTime": {
     "end_time": "2016-10-04T14:02:43.287162",
     "start_time": "2016-10-04T14:02:42.831362"
    },
    "collapsed": false
   },
   "outputs": [
    {
     "name": "stdout",
     "output_type": "stream",
     "text": [
      "(5, 12759)\n"
     ]
    },
    {
     "data": {
      "text/plain": [
       "array([[0, 1, 0, ..., 0, 1, 1],\n",
       "       [0, 0, 0, ..., 0, 0, 0],\n",
       "       [1, 0, 0, ..., 0, 0, 0],\n",
       "       [0, 2, 0, ..., 1, 0, 0],\n",
       "       [0, 0, 1, ..., 0, 0, 0]], dtype=int64)"
      ]
     },
     "execution_count": 7,
     "metadata": {},
     "output_type": "execute_result"
    }
   ],
   "source": [
    "vectorizer = CountVectorizer(analyzer = 'word', ngram_range = (1,1))\n",
    "\n",
    "C = vectorizer.fit_transform(corpus); C_array = C.toarray()\n",
    "print(C_array.shape)\n",
    "C_array"
   ]
  },
  {
   "cell_type": "code",
   "execution_count": 8,
   "metadata": {
    "ExecuteTime": {
     "end_time": "2016-10-04T14:02:43.813648",
     "start_time": "2016-10-04T14:02:43.291164"
    },
    "collapsed": false
   },
   "outputs": [
    {
     "data": {
      "image/png": "[encoded data removed]",
      "text/plain": [
       "<matplotlib.figure.Figure at 0x9cff7d0>"
      ]
     },
     "metadata": {},
     "output_type": "display_data"
    }
   ],
   "source": [
    "C_df = pd.DataFrame(C_array)\n",
    "row_dist = pd.DataFrame(squareform(pdist(C_df, metric='euclidean')))\n",
    "\n",
    "mask = np.zeros_like(row_dist)\n",
    "mask[np.triu_indices_from(mask)] = True\n",
    "\n",
    "plt.figure(figsize=(8,8))\n",
    "ax = sns.heatmap(row_dist,\n",
    "                 mask=mask,\n",
    "                 square=True,\n",
    "                 vmin=550,\n",
    "                 #annot=True, fmt='.2f',\n",
    "                 cmap='Blues', \n",
    "                 cbar=True,\n",
    "                 cbar_kws={'orientation': 'horizontal', 'shrink': .5},\n",
    "                 linewidths=.5,\n",
    "                 robust=False,\n",
    "                 xticklabels=corpus.index,\n",
    "                 yticklabels=corpus.index)\n",
    "ax.set(title='Distancia entre los tweets de los líderes políticos (2015)')\n",
    "plt.show()"
   ]
  }
 ],
 "metadata": {
  "anaconda-cloud": {},
  "kernelspec": {
   "display_name": "Python [Root]",
   "language": "python",
   "name": "Python [Root]"
  },
  "language_info": {
   "codemirror_mode": {
    "name": "ipython",
    "version": 3
   },
   "file_extension": ".py",
   "mimetype": "text/x-python",
   "name": "python",
   "nbconvert_exporter": "python",
   "pygments_lexer": "ipython3",
   "version": "3.5.2"
  },
  "nav_menu": {},
  "toc": {
   "navigate_menu": true,
   "number_sections": true,
   "sideBar": true,
   "threshold": 6,
   "toc_cell": false,
   "toc_section_display": "block",
   "toc_window_display": false
  }
 },
 "nbformat": 4,
 "nbformat_minor": 0
}
