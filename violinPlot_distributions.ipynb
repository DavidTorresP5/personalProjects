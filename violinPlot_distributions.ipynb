{
 "cells": [
  {
   "cell_type": "markdown",
   "metadata": {
    "ExecuteTime": {
     "end_time": "2016-09-11T21:55:44.937195",
     "start_time": "2016-09-11T21:55:44.933692"
    }
   },
   "source": [
    "# Probability distributions with visualizations"
   ]
  },
  {
   "cell_type": "code",
   "execution_count": 1,
   "metadata": {
    "ExecuteTime": {
     "end_time": "2016-09-11T21:54:42.808641",
     "start_time": "2016-09-11T21:54:42.785125"
    },
    "collapsed": true
   },
   "outputs": [],
   "source": [
    "#%load_ext watermark\n",
    "%reload_ext watermark"
   ]
  },
  {
   "cell_type": "code",
   "execution_count": 2,
   "metadata": {
    "ExecuteTime": {
     "end_time": "2016-09-11T21:54:48.029475",
     "start_time": "2016-09-11T21:54:42.811643"
    },
    "collapsed": false
   },
   "outputs": [
    {
     "name": "stdout",
     "output_type": "stream",
     "text": [
      "David Torres Pascual 2016-09-11 \n",
      "\n",
      "CPython 3.5.2\n",
      "IPython 4.2.0\n",
      "\n",
      "pandas 0.18.1\n",
      "numpy 1.11.1\n",
      "plotly 1.12.9\n"
     ]
    }
   ],
   "source": [
    "%watermark -v -d -a \"David Torres Pascual\" -p pandas,numpy,plotly"
   ]
  },
  {
   "cell_type": "code",
   "execution_count": 3,
   "metadata": {
    "ExecuteTime": {
     "end_time": "2016-09-11T21:54:48.043985",
     "start_time": "2016-09-11T21:54:48.033977"
    },
    "collapsed": false
   },
   "outputs": [],
   "source": [
    "import plotly.plotly as py\n",
    "py.sign_in('davidtorresp5', 'yz2ji4kcsz') # Use your own credentials for your plot.ly account\n",
    "\n",
    "from plotly.tools import FigureFactory as FF\n",
    "from plotly.graph_objs import graph_objs\n",
    "\n",
    "import numpy as np\n",
    "import pandas as pd"
   ]
  },
  {
   "cell_type": "code",
   "execution_count": 4,
   "metadata": {
    "ExecuteTime": {
     "end_time": "2016-09-11T21:54:48.181695",
     "start_time": "2016-09-11T21:54:48.050989"
    },
    "collapsed": false
   },
   "outputs": [],
   "source": [
    "d = {'Gaussian': np.random.normal(0, 3, 500),\n",
    "    'Pareto': np.random.pareto(3, 500),\n",
    "    'Poisson': np.random.poisson(4, 500),\n",
    "    'Random': np.random.uniform(-10, 10, 500)}\n",
    "\n",
    "df = pd.DataFrame(d)\n",
    "\n",
    "df = pd.DataFrame(df.stack())\n",
    "df.columns = ['Values']\n",
    "df.index.names=['Ind','Distr']\n",
    "df.reset_index(inplace=True)"
   ]
  },
  {
   "cell_type": "code",
   "execution_count": 5,
   "metadata": {
    "ExecuteTime": {
     "end_time": "2016-09-11T21:54:52.751621",
     "start_time": "2016-09-11T21:54:48.184692"
    },
    "collapsed": false
   },
   "outputs": [
    {
     "name": "stdout",
     "output_type": "stream",
     "text": [
      "This is the format of your plot grid:\n",
      "[ (1,1) x1,y1 ]  [ (1,2) x2,y1 ]  [ (1,3) x3,y1 ]  [ (1,4) x4,y1 ]\n",
      "\n"
     ]
    },
    {
     "data": {
      "text/html": [
       "<iframe id=\"igraph\" scrolling=\"no\" style=\"border:none;\" seamless=\"seamless\" src=\"https://plot.ly/~davidtorresp5/61.embed\" height=\"500px\" width=\"800px\"></iframe>"
      ],
      "text/plain": [
       "<plotly.tools.PlotlyDisplay object>"
      ]
     },
     "execution_count": 5,
     "metadata": {},
     "output_type": "execute_result"
    }
   ],
   "source": [
    "data_header = 'Values'\n",
    "group_header = 'Distr'\n",
    "colors_dict = ['rgb(25, 200, 120)',\n",
    "               'rgb(175, 25, 122)',\n",
    "               'rgb(30,144,255)',\n",
    "               'rgb(255,165,0)']\n",
    "\n",
    "fig = FF.create_violin(df, data_header='Values', group_header='Distr',\n",
    "                       height=500, width=800,\n",
    "                       colors=colors_dict,\n",
    "                       title='Violin plot with some distributions',\n",
    "                       use_colorscale=False)\n",
    "py.iplot(fig, filename='Violin Plots')"
   ]
  }
 ],
 "metadata": {
  "anaconda-cloud": {},
  "kernelspec": {
   "display_name": "Python [Root]",
   "language": "python",
   "name": "Python [Root]"
  },
  "language_info": {
   "codemirror_mode": {
    "name": "ipython",
    "version": 3
   },
   "file_extension": ".py",
   "mimetype": "text/x-python",
   "name": "python",
   "nbconvert_exporter": "python",
   "pygments_lexer": "ipython3",
   "version": "3.5.2"
  },
  "nav_menu": {},
  "toc": {
   "navigate_menu": true,
   "number_sections": true,
   "sideBar": true,
   "threshold": 6,
   "toc_cell": false,
   "toc_section_display": "block",
   "toc_window_display": false
  }
 },
 "nbformat": 4,
 "nbformat_minor": 0
}
