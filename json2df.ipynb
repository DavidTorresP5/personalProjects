{
 "cells": [
  {
   "cell_type": "markdown",
   "metadata": {},
   "source": [
    "# Reading a JSON file with Python"
   ]
  },
  {
   "cell_type": "code",
   "execution_count": 1,
   "metadata": {
    "ExecuteTime": {
     "end_time": "2016-08-30T17:22:26.082495",
     "start_time": "2016-08-30T17:22:26.057480"
    },
    "collapsed": false
   },
   "outputs": [],
   "source": [
    "#%load_ext watermark\n",
    "%reload_ext watermark"
   ]
  },
  {
   "cell_type": "code",
   "execution_count": 2,
   "metadata": {
    "ExecuteTime": {
     "end_time": "2016-08-30T17:22:27.673618",
     "start_time": "2016-08-30T17:22:26.086499"
    },
    "collapsed": false
   },
   "outputs": [
    {
     "name": "stdout",
     "output_type": "stream",
     "text": [
      "David Torres Pascual 2016-08-30 \n",
      "\n",
      "CPython 3.5.2\n",
      "IPython 4.2.0\n",
      "\n",
      "pandas 0.18.1\n"
     ]
    }
   ],
   "source": [
    "%watermark -v -d -a \"David Torres Pascual\" -p pandas"
   ]
  },
  {
   "cell_type": "markdown",
   "metadata": {},
   "source": [
    "## Introduction\n",
    "\n",
    "This is the structure of the JSON document:\n",
    "\n",
    "\n",
    "```json\n",
    "{\n",
    "\t\"data\": [\n",
    "\t\t{\n",
    "\t\t\t\"title\": \"University_of_Notre_Dame\",\n",
    "\t\t\t\"paragraphs\": [\n",
    "\t\t\t\t{\n",
    "\t\t\t\t\t\"context\": \"Architecturally, the school has a Catholic character. Atop the Main Building's gold dome is a golden statue of the Virgin Mary. Immediately in front of the Main Building and facing it, is a copper statue of Christ with arms upraised with the legend \\\"Venite Ad Me Omnes\\\". Next to the Main Building is the Basilica of the Sacred Heart. Immediately behind the basilica is the Grotto, a Marian place of prayer and reflection. It is a replica of the grotto at Lourdes, France where the Virgin Mary reputedly appeared to Saint Bernadette Soubirous in 1858. At the end of the main drive (and in a direct line that connects through 3 statues and the Gold Dome), is a simple, modern stone statue of Mary.\",\n",
    "\t\t\t\t\t\"qas\": [\n",
    "\t\t\t\t\t\t{\n",
    "\t\t\t\t\t\t\t\"answers\": [\n",
    "\t\t\t\t\t\t\t\t{\n",
    "\t\t\t\t\t\t\t\t\t\"answer_start\": 515,\n",
    "\t\t\t\t\t\t\t\t\t\"text\": \"Saint Bernadette Soubirous\"\n",
    "\t\t\t\t\t\t\t\t}\n",
    "\t\t\t\t\t\t\t],\n",
    "\t\t\t\t\t\t\t\"question\": \"To whom did the Virgin Mary allegedly appear in 1858 in Lourdes France?\",\n",
    "\t\t\t\t\t\t\t\"id\": \"5733be284776f41900661182\"\n",
    "\t\t\t\t\t\t},\n",
    "\t\t\t\t\t\t{\n",
    "\t\t\t\t\t\t\t\"answers\": [\n",
    "\t\t\t\t\t\t\t\t{\n",
    "\t\t\t\t\t\t\t\t\t\"answer_start\": 188,\n",
    "\t\t\t\t\t\t\t\t\t\"text\": \"a copper statue of Christ\"\n",
    "\t\t\t\t\t\t\t\t}\n",
    "\t\t\t\t\t\t\t],\n",
    "\t\t\t\t\t\t\t\"question\": \"What is in front of the Notre Dame Main Building?\",\n",
    "\t\t\t\t\t\t\t\"id\": \"5733be284776f4190066117f\"\n",
    "\t\t\t\t\t\t}\n",
    "\t\t\t\t\t]\n",
    "\t\t\t\t}\n",
    "\t\t\t]\n",
    "\t\t}\n",
    "\t]\n",
    "}\n",
    "```\n",
    "\n",
    "With the following lines of code we can get the fields **question** and **text** in **answers** as a estructured DataFrame."
   ]
  },
  {
   "cell_type": "markdown",
   "metadata": {},
   "source": [
    "## Code"
   ]
  },
  {
   "cell_type": "code",
   "execution_count": 3,
   "metadata": {
    "ExecuteTime": {
     "end_time": "2016-08-30T17:22:27.690293",
     "start_time": "2016-08-30T17:22:27.674663"
    },
    "collapsed": true
   },
   "outputs": [],
   "source": [
    "import pandas as pd"
   ]
  },
  {
   "cell_type": "code",
   "execution_count": 4,
   "metadata": {
    "ExecuteTime": {
     "end_time": "2016-08-30T17:22:27.830911",
     "start_time": "2016-08-30T17:22:27.693952"
    },
    "collapsed": true
   },
   "outputs": [],
   "source": [
    "def read_json(url, listx):\n",
    "    '''\n",
    "    Read the previous complex nested json file, extract some information and create a list. \n",
    "    '''\n",
    "    newlist = []\n",
    "    data = pd.read_json(url) \n",
    "    for i in data['data']:\n",
    "        for x in listx:\n",
    "            lines = i['paragraphs'][x]['qas'][0]['question'], i['paragraphs'][x]['qas'][0]['answers'][0]['text']\n",
    "            newlist.append(lines)\n",
    "    return newlist"
   ]
  },
  {
   "cell_type": "code",
   "execution_count": 5,
   "metadata": {
    "ExecuteTime": {
     "end_time": "2016-08-30T17:22:29.080955",
     "start_time": "2016-08-30T17:22:27.830911"
    },
    "collapsed": false
   },
   "outputs": [
    {
     "name": "stdout",
     "output_type": "stream",
     "text": [
      "(1768, 2)\n"
     ]
    },
    {
     "data": {
      "text/html": [
       "<div>\n",
       "<table border=\"1\" class=\"dataframe\">\n",
       "  <thead>\n",
       "    <tr style=\"text-align: right;\">\n",
       "      <th></th>\n",
       "      <th>Question</th>\n",
       "      <th>Answer</th>\n",
       "    </tr>\n",
       "  </thead>\n",
       "  <tbody>\n",
       "    <tr>\n",
       "      <th>0</th>\n",
       "      <td>When did the Scholastic Magazine of Notre dame...</td>\n",
       "      <td>September 1876</td>\n",
       "    </tr>\n",
       "    <tr>\n",
       "      <th>1</th>\n",
       "      <td>Where is the headquarters of the Congregation ...</td>\n",
       "      <td>Rome</td>\n",
       "    </tr>\n",
       "    <tr>\n",
       "      <th>2</th>\n",
       "      <td>How many BS level degrees are offered in the C...</td>\n",
       "      <td>eight</td>\n",
       "    </tr>\n",
       "    <tr>\n",
       "      <th>3</th>\n",
       "      <td>What entity provides help with the management ...</td>\n",
       "      <td>Learning Resource Center</td>\n",
       "    </tr>\n",
       "    <tr>\n",
       "      <th>4</th>\n",
       "      <td>After her second solo album, what other entert...</td>\n",
       "      <td>acting</td>\n",
       "    </tr>\n",
       "    <tr>\n",
       "      <th>5</th>\n",
       "      <td>In her music, what are some recurring elements...</td>\n",
       "      <td>love, relationships, and monogamy</td>\n",
       "    </tr>\n",
       "    <tr>\n",
       "      <th>6</th>\n",
       "      <td>Beyonce's younger sibling also sang with her i...</td>\n",
       "      <td>Destiny's Child</td>\n",
       "    </tr>\n",
       "    <tr>\n",
       "      <th>7</th>\n",
       "      <td>What town did Beyonce go to school in?</td>\n",
       "      <td>Fredericksburg</td>\n",
       "    </tr>\n",
       "    <tr>\n",
       "      <th>8</th>\n",
       "      <td>What year was the state tree selected?</td>\n",
       "      <td>1908</td>\n",
       "    </tr>\n",
       "    <tr>\n",
       "      <th>9</th>\n",
       "      <td>When was the state song composed?</td>\n",
       "      <td>1910</td>\n",
       "    </tr>\n",
       "    <tr>\n",
       "      <th>10</th>\n",
       "      <td>What is Montana's motto?</td>\n",
       "      <td>Oro y Plata</td>\n",
       "    </tr>\n",
       "  </tbody>\n",
       "</table>\n",
       "</div>"
      ],
      "text/plain": [
       "                                             Question  \\\n",
       "0   When did the Scholastic Magazine of Notre dame...   \n",
       "1   Where is the headquarters of the Congregation ...   \n",
       "2   How many BS level degrees are offered in the C...   \n",
       "3   What entity provides help with the management ...   \n",
       "4   After her second solo album, what other entert...   \n",
       "5   In her music, what are some recurring elements...   \n",
       "6   Beyonce's younger sibling also sang with her i...   \n",
       "7              What town did Beyonce go to school in?   \n",
       "8              What year was the state tree selected?   \n",
       "9                   When was the state song composed?   \n",
       "10                          What is Montana's motto?    \n",
       "\n",
       "                               Answer  \n",
       "0                      September 1876  \n",
       "1                                Rome  \n",
       "2                               eight  \n",
       "3            Learning Resource Center  \n",
       "4                              acting  \n",
       "5   love, relationships, and monogamy  \n",
       "6                     Destiny's Child  \n",
       "7                      Fredericksburg  \n",
       "8                                1908  \n",
       "9                                1910  \n",
       "10                        Oro y Plata  "
      ]
     },
     "execution_count": 5,
     "metadata": {},
     "output_type": "execute_result"
    }
   ],
   "source": [
    "listx = [1,2,3,4]\n",
    "q_a = read_json('train-v1.1.json',listx)\n",
    "\n",
    "df = pd.DataFrame(q_a, columns=['Question', 'Answer'])\n",
    "print(df.shape)\n",
    "df.ix[0:10]"
   ]
  },
  {
   "cell_type": "code",
   "execution_count": null,
   "metadata": {
    "ExecuteTime": {
     "end_time": "2016-08-30T17:21:35.505392",
     "start_time": "2016-08-30T15:21:28.710Z"
    },
    "collapsed": false
   },
   "outputs": [],
   "source": []
  }
 ],
 "metadata": {
  "anaconda-cloud": {},
  "gist": {
   "data": {
    "description": "Untitled2.ipynb",
    "public": false
   },
   "id": ""
  },
  "kernelspec": {
   "display_name": "Python [Root]",
   "language": "python",
   "name": "Python [Root]"
  },
  "language_info": {
   "codemirror_mode": {
    "name": "ipython",
    "version": 3
   },
   "file_extension": ".py",
   "mimetype": "text/x-python",
   "name": "python",
   "nbconvert_exporter": "python",
   "pygments_lexer": "ipython3",
   "version": "3.5.2"
  },
  "nav_menu": {},
  "toc": {
   "navigate_menu": true,
   "number_sections": true,
   "sideBar": true,
   "threshold": 6,
   "toc_cell": false,
   "toc_section_display": "block",
   "toc_window_display": false
  }
 },
 "nbformat": 4,
 "nbformat_minor": 0
}
