{
 "cells": [
  {
   "cell_type": "code",
   "execution_count": 5,
   "metadata": {
    "ExecuteTime": {
     "end_time": "2017-02-13T23:48:49.302770",
     "start_time": "2017-02-13T23:48:49.279755"
    },
    "collapsed": false
   },
   "outputs": [
    {
     "data": {
      "text/plain": [
       "'3.6.0 |Anaconda 4.3.0 (32-bit)| (default, Dec 23 2016, 12:06:52) [MSC v.1900 32 bit (Intel)]'"
      ]
     },
     "execution_count": 5,
     "metadata": {},
     "output_type": "execute_result"
    }
   ],
   "source": [
    "import pandas as pd"
   ]
  },
  {
   "cell_type": "code",
   "execution_count": 27,
   "metadata": {
    "ExecuteTime": {
     "end_time": "2017-02-14T00:00:29.813338",
     "start_time": "2017-02-14T00:00:29.788322"
    },
    "collapsed": false
   },
   "outputs": [
    {
     "data": {
      "text/html": [
       "<div>\n",
       "<table border=\"1\" class=\"dataframe\">\n",
       "  <thead>\n",
       "    <tr style=\"text-align: right;\">\n",
       "      <th></th>\n",
       "      <th>fecha1</th>\n",
       "      <th>fecha2</th>\n",
       "    </tr>\n",
       "  </thead>\n",
       "  <tbody>\n",
       "    <tr>\n",
       "      <th>0</th>\n",
       "      <td>2015-01-12 00:00:00</td>\n",
       "      <td>2015-01-13 00:00:00</td>\n",
       "    </tr>\n",
       "    <tr>\n",
       "      <th>1</th>\n",
       "      <td>2015-01-12 01:00:00</td>\n",
       "      <td>2015-01-13 00:01:00</td>\n",
       "    </tr>\n",
       "    <tr>\n",
       "      <th>2</th>\n",
       "      <td>2015-01-12 02:00:00</td>\n",
       "      <td>2015-01-13 00:02:00</td>\n",
       "    </tr>\n",
       "    <tr>\n",
       "      <th>3</th>\n",
       "      <td>2015-01-12 03:00:00</td>\n",
       "      <td>2015-01-13 00:03:00</td>\n",
       "    </tr>\n",
       "    <tr>\n",
       "      <th>4</th>\n",
       "      <td>2015-01-12 04:00:00</td>\n",
       "      <td>2015-01-13 00:04:00</td>\n",
       "    </tr>\n",
       "  </tbody>\n",
       "</table>\n",
       "</div>"
      ],
      "text/plain": [
       "               fecha1              fecha2\n",
       "0 2015-01-12 00:00:00 2015-01-13 00:00:00\n",
       "1 2015-01-12 01:00:00 2015-01-13 00:01:00\n",
       "2 2015-01-12 02:00:00 2015-01-13 00:02:00\n",
       "3 2015-01-12 03:00:00 2015-01-13 00:03:00\n",
       "4 2015-01-12 04:00:00 2015-01-13 00:04:00"
      ]
     },
     "execution_count": 27,
     "metadata": {},
     "output_type": "execute_result"
    }
   ],
   "source": [
    "df = pd.DataFrame()\n",
    "df['fecha1'] = pd.date_range('1/12/2015', periods=20, freq='H')\n",
    "df['fecha2'] = pd.date_range('1/13/2015', periods=20, freq='min')\n",
    "\n",
    "df.head()"
   ]
  },
  {
   "cell_type": "code",
   "execution_count": 29,
   "metadata": {
    "ExecuteTime": {
     "end_time": "2017-02-14T00:00:58.554234",
     "start_time": "2017-02-14T00:00:58.531216"
    },
    "collapsed": false
   },
   "outputs": [
    {
     "data": {
      "text/html": [
       "<div>\n",
       "<table border=\"1\" class=\"dataframe\">\n",
       "  <thead>\n",
       "    <tr style=\"text-align: right;\">\n",
       "      <th></th>\n",
       "      <th>fecha1</th>\n",
       "      <th>fecha2</th>\n",
       "      <th>fecha3</th>\n",
       "    </tr>\n",
       "  </thead>\n",
       "  <tbody>\n",
       "    <tr>\n",
       "      <th>0</th>\n",
       "      <td>2015-01-12 00:00:00</td>\n",
       "      <td>2015-01-13 00:00:00</td>\n",
       "      <td>1 days 00:00:00</td>\n",
       "    </tr>\n",
       "    <tr>\n",
       "      <th>1</th>\n",
       "      <td>2015-01-12 01:00:00</td>\n",
       "      <td>2015-01-13 00:01:00</td>\n",
       "      <td>0 days 23:01:00</td>\n",
       "    </tr>\n",
       "    <tr>\n",
       "      <th>2</th>\n",
       "      <td>2015-01-12 02:00:00</td>\n",
       "      <td>2015-01-13 00:02:00</td>\n",
       "      <td>0 days 22:02:00</td>\n",
       "    </tr>\n",
       "    <tr>\n",
       "      <th>3</th>\n",
       "      <td>2015-01-12 03:00:00</td>\n",
       "      <td>2015-01-13 00:03:00</td>\n",
       "      <td>0 days 21:03:00</td>\n",
       "    </tr>\n",
       "    <tr>\n",
       "      <th>4</th>\n",
       "      <td>2015-01-12 04:00:00</td>\n",
       "      <td>2015-01-13 00:04:00</td>\n",
       "      <td>0 days 20:04:00</td>\n",
       "    </tr>\n",
       "  </tbody>\n",
       "</table>\n",
       "</div>"
      ],
      "text/plain": [
       "               fecha1              fecha2          fecha3\n",
       "0 2015-01-12 00:00:00 2015-01-13 00:00:00 1 days 00:00:00\n",
       "1 2015-01-12 01:00:00 2015-01-13 00:01:00 0 days 23:01:00\n",
       "2 2015-01-12 02:00:00 2015-01-13 00:02:00 0 days 22:02:00\n",
       "3 2015-01-12 03:00:00 2015-01-13 00:03:00 0 days 21:03:00\n",
       "4 2015-01-12 04:00:00 2015-01-13 00:04:00 0 days 20:04:00"
      ]
     },
     "execution_count": 29,
     "metadata": {},
     "output_type": "execute_result"
    }
   ],
   "source": [
    "df['fecha3'] = df['fecha2'] - df['fecha1']\n",
    "\n",
    "df.head()"
   ]
  },
  {
   "cell_type": "code",
   "execution_count": 40,
   "metadata": {
    "ExecuteTime": {
     "end_time": "2017-02-14T00:09:36.186311",
     "start_time": "2017-02-14T00:09:36.144284"
    },
    "collapsed": false
   },
   "outputs": [
    {
     "data": {
      "text/html": [
       "<div>\n",
       "<table border=\"1\" class=\"dataframe\">\n",
       "  <thead>\n",
       "    <tr style=\"text-align: right;\">\n",
       "      <th></th>\n",
       "      <th>fecha1</th>\n",
       "      <th>fecha2</th>\n",
       "      <th>fecha3</th>\n",
       "      <th>horas</th>\n",
       "      <th>minutos</th>\n",
       "      <th>segundos</th>\n",
       "    </tr>\n",
       "  </thead>\n",
       "  <tbody>\n",
       "    <tr>\n",
       "      <th>0</th>\n",
       "      <td>2015-01-12 00:00:00</td>\n",
       "      <td>2015-01-13 00:00:00</td>\n",
       "      <td>1 days 00:00:00</td>\n",
       "      <td>0</td>\n",
       "      <td>0</td>\n",
       "      <td>0</td>\n",
       "    </tr>\n",
       "    <tr>\n",
       "      <th>1</th>\n",
       "      <td>2015-01-12 01:00:00</td>\n",
       "      <td>2015-01-13 00:01:00</td>\n",
       "      <td>0 days 23:01:00</td>\n",
       "      <td>23</td>\n",
       "      <td>1</td>\n",
       "      <td>82860</td>\n",
       "    </tr>\n",
       "    <tr>\n",
       "      <th>2</th>\n",
       "      <td>2015-01-12 02:00:00</td>\n",
       "      <td>2015-01-13 00:02:00</td>\n",
       "      <td>0 days 22:02:00</td>\n",
       "      <td>22</td>\n",
       "      <td>2</td>\n",
       "      <td>79320</td>\n",
       "    </tr>\n",
       "    <tr>\n",
       "      <th>3</th>\n",
       "      <td>2015-01-12 03:00:00</td>\n",
       "      <td>2015-01-13 00:03:00</td>\n",
       "      <td>0 days 21:03:00</td>\n",
       "      <td>21</td>\n",
       "      <td>3</td>\n",
       "      <td>75780</td>\n",
       "    </tr>\n",
       "    <tr>\n",
       "      <th>4</th>\n",
       "      <td>2015-01-12 04:00:00</td>\n",
       "      <td>2015-01-13 00:04:00</td>\n",
       "      <td>0 days 20:04:00</td>\n",
       "      <td>20</td>\n",
       "      <td>4</td>\n",
       "      <td>72240</td>\n",
       "    </tr>\n",
       "  </tbody>\n",
       "</table>\n",
       "</div>"
      ],
      "text/plain": [
       "               fecha1              fecha2          fecha3  horas  minutos  \\\n",
       "0 2015-01-12 00:00:00 2015-01-13 00:00:00 1 days 00:00:00      0        0   \n",
       "1 2015-01-12 01:00:00 2015-01-13 00:01:00 0 days 23:01:00     23        1   \n",
       "2 2015-01-12 02:00:00 2015-01-13 00:02:00 0 days 22:02:00     22        2   \n",
       "3 2015-01-12 03:00:00 2015-01-13 00:03:00 0 days 21:03:00     21        3   \n",
       "4 2015-01-12 04:00:00 2015-01-13 00:04:00 0 days 20:04:00     20        4   \n",
       "\n",
       "   segundos  \n",
       "0         0  \n",
       "1     82860  \n",
       "2     79320  \n",
       "3     75780  \n",
       "4     72240  "
      ]
     },
     "execution_count": 40,
     "metadata": {},
     "output_type": "execute_result"
    }
   ],
   "source": [
    "df['horas'] = df['fecha3'].apply(lambda x: x.seconds//3600)\n",
    "df['minutos'] = df['fecha3'].apply(lambda x: (x.seconds//60)%60)\n",
    "df['segundos'] = df['fecha3'].apply(lambda x: x.seconds)\n",
    "\n",
    "df.head()"
   ]
  }
 ],
 "metadata": {
  "kernelspec": {
   "display_name": "Python 3",
   "language": "python",
   "name": "python3"
  },
  "language_info": {
   "codemirror_mode": {
    "name": "ipython",
    "version": 3
   },
   "file_extension": ".py",
   "mimetype": "text/x-python",
   "name": "python",
   "nbconvert_exporter": "python",
   "pygments_lexer": "ipython3",
   "version": "3.6.0"
  },
  "nav_menu": {},
  "toc": {
   "navigate_menu": true,
   "number_sections": true,
   "sideBar": true,
   "threshold": 6,
   "toc_cell": false,
   "toc_section_display": "block",
   "toc_window_display": false
  }
 },
 "nbformat": 4,
 "nbformat_minor": 2
}
