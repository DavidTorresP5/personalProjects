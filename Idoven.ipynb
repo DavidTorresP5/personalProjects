{
  "nbformat": 4,
  "nbformat_minor": 0,
  "metadata": {
    "colab": {
      "name": "Idoven.ipynb",
      "provenance": [],
      "collapsed_sections": [],
      "authorship_tag": "ABX9TyPbhV3vskwS2Bkg1GhE/s6T",
      "include_colab_link": true
    },
    "kernelspec": {
      "name": "python3",
      "display_name": "Python 3"
    }
  },
  "cells": [
    {
      "cell_type": "markdown",
      "metadata": {
        "id": "view-in-github",
        "colab_type": "text"
      },
      "source": [
        "<a href=\"https://colab.research.google.com/github/DavidTorresP5/personalProjects/blob/master/Idoven.ipynb\" target=\"_parent\"><img src=\"https://colab.research.google.com/assets/colab-badge.svg\" alt=\"Open In Colab\"/></a>"
      ]
    },
    {
      "cell_type": "code",
      "metadata": {
        "id": "2i7Z3bJH9ZGg",
        "colab_type": "code",
        "colab": {}
      },
      "source": [
        "import os\n",
        "import glob\n",
        "import sys\n",
        "import tarfile\n",
        "import numpy as np\n",
        "import pandas as pd\n",
        "from scipy.io import loadmat\n",
        "import matplotlib.pyplot as plt"
      ],
      "execution_count": 21,
      "outputs": []
    },
    {
      "cell_type": "code",
      "metadata": {
        "id": "FVy6kQNl9UeO",
        "colab_type": "code",
        "colab": {
          "base_uri": "https://localhost:8080/",
          "height": 1000
        },
        "outputId": "d717084e-ed41-4e8d-b607-52fb7e3f287e"
      },
      "source": [
        "! wget -O PhysioNetChallenge2020_Training_CPSC.tar.gz \\\n",
        "https://cloudypipeline.com:9555/api/download/physionet2020training/PhysioNetChallenge2020_Training_CPSC.tar.gz/\n",
        "! wget -O PhysioNetChallenge2020_Training_2.tar.gz \\\n",
        "https://cloudypipeline.com:9555/api/download/physionet2020training/PhysioNetChallenge2020_Training_2.tar.gz/\n",
        "! wget -O PhysioNetChallenge2020_Training_StPetersburg.tar.gz \\\n",
        "https://cloudypipeline.com:9555/api/download/physionet2020training/PhysioNetChallenge2020_Training_StPetersburg.tar.gz/\n",
        "! wget -O PhysioNetChallenge2020_Training_PTB.tar.gz \\\n",
        "https://cloudypipeline.com:9555/api/download/physionet2020training/PhysioNetChallenge2020_Training_PTB.tar.gz/\n",
        "! wget -O PhysioNetChallenge2020_PTB-XL.tar.gz \\\n",
        "https://cloudypipeline.com:9555/api/download/physionet2020training/PhysioNetChallenge2020_PTB-XL.tar.gz/\n",
        "! wget -O PhysioNetChallenge2020_Training_E.tar.gz \\\n",
        "https://cloudypipeline.com:9555/api/download/physionet2020training/PhysioNetChallenge2020_Training_E.tar.gz/"
      ],
      "execution_count": 23,
      "outputs": [
        {
          "output_type": "stream",
          "text": [
            "--2020-06-18 14:36:27--  https://cloudypipeline.com:9555/api/download/physionet2020training/PhysioNetChallenge2020_Training_CPSC.tar.gz/\n",
            "Resolving cloudypipeline.com (cloudypipeline.com)... 34.74.104.185\n",
            "Connecting to cloudypipeline.com (cloudypipeline.com)|34.74.104.185|:9555... connected.\n",
            "HTTP request sent, awaiting response... 200 \n",
            "Length: 859952525 (820M) [application/octet-stream]\n",
            "Saving to: ‘PhysioNetChallenge2020_Training_CPSC.tar.gz’\n",
            "\n",
            "PhysioNetChallenge2 100%[===================>] 820.11M  15.0MB/s    in 56s     \n",
            "\n",
            "2020-06-18 14:37:24 (14.6 MB/s) - ‘PhysioNetChallenge2020_Training_CPSC.tar.gz’ saved [859952525/859952525]\n",
            "\n",
            "--2020-06-18 14:37:25--  https://cloudypipeline.com:9555/api/download/physionet2020training/PhysioNetChallenge2020_Training_2.tar.gz/\n",
            "Resolving cloudypipeline.com (cloudypipeline.com)... 34.74.104.185\n",
            "Connecting to cloudypipeline.com (cloudypipeline.com)|34.74.104.185|:9555... connected.\n",
            "HTTP request sent, awaiting response... 200 \n",
            "Length: 423381508 (404M) [application/octet-stream]\n",
            "Saving to: ‘PhysioNetChallenge2020_Training_2.tar.gz’\n",
            "\n",
            "PhysioNetChallenge2 100%[===================>] 403.77M  15.1MB/s    in 28s     \n",
            "\n",
            "2020-06-18 14:37:54 (14.4 MB/s) - ‘PhysioNetChallenge2020_Training_2.tar.gz’ saved [423381508/423381508]\n",
            "\n",
            "--2020-06-18 14:37:55--  https://cloudypipeline.com:9555/api/download/physionet2020training/PhysioNetChallenge2020_Training_StPetersburg.tar.gz/\n",
            "Resolving cloudypipeline.com (cloudypipeline.com)... 34.74.104.185\n",
            "Connecting to cloudypipeline.com (cloudypipeline.com)|34.74.104.185|:9555... connected.\n",
            "HTTP request sent, awaiting response... 200 \n",
            "Length: 591398198 (564M) [application/octet-stream]\n",
            "Saving to: ‘PhysioNetChallenge2020_Training_StPetersburg.tar.gz’\n",
            "\n",
            "PhysioNetChallenge2 100%[===================>] 564.00M  15.2MB/s    in 39s     \n",
            "\n",
            "2020-06-18 14:38:35 (14.5 MB/s) - ‘PhysioNetChallenge2020_Training_StPetersburg.tar.gz’ saved [591398198/591398198]\n",
            "\n",
            "--2020-06-18 14:38:36--  https://cloudypipeline.com:9555/api/download/physionet2020training/PhysioNetChallenge2020_Training_PTB.tar.gz/\n",
            "Resolving cloudypipeline.com (cloudypipeline.com)... 34.74.104.185\n",
            "Connecting to cloudypipeline.com (cloudypipeline.com)|34.74.104.185|:9555... connected.\n",
            "HTTP request sent, awaiting response... 200 \n",
            "Length: 932616724 (889M) [application/octet-stream]\n",
            "Saving to: ‘PhysioNetChallenge2020_Training_PTB.tar.gz’\n",
            "\n",
            "PhysioNetChallenge2 100%[===================>] 889.41M  15.2MB/s    in 61s     \n",
            "\n",
            "2020-06-18 14:39:38 (14.7 MB/s) - ‘PhysioNetChallenge2020_Training_PTB.tar.gz’ saved [932616724/932616724]\n",
            "\n",
            "--2020-06-18 14:39:39--  https://cloudypipeline.com:9555/api/download/physionet2020training/PhysioNetChallenge2020_PTB-XL.tar.gz/\n",
            "Resolving cloudypipeline.com (cloudypipeline.com)... 34.74.104.185\n",
            "Connecting to cloudypipeline.com (cloudypipeline.com)|34.74.104.185|:9555... connected.\n",
            "HTTP request sent, awaiting response... 200 \n",
            "Length: 1448248661 (1.3G) [application/octet-stream]\n",
            "Saving to: ‘PhysioNetChallenge2020_PTB-XL.tar.gz’\n",
            "\n",
            "PhysioNetChallenge2 100%[===================>]   1.35G  15.0MB/s    in 94s     \n",
            "\n",
            "2020-06-18 14:41:14 (14.7 MB/s) - ‘PhysioNetChallenge2020_PTB-XL.tar.gz’ saved [1448248661/1448248661]\n",
            "\n",
            "--2020-06-18 14:41:15--  https://cloudypipeline.com:9555/api/download/physionet2020training/PhysioNetChallenge2020_Training_E.tar.gz/\n",
            "Resolving cloudypipeline.com (cloudypipeline.com)... 34.74.104.185\n",
            "Connecting to cloudypipeline.com (cloudypipeline.com)|34.74.104.185|:9555... connected.\n",
            "HTTP request sent, awaiting response... 200 \n",
            "Length: 502442681 (479M) [application/octet-stream]\n",
            "Saving to: ‘PhysioNetChallenge2020_Training_E.tar.gz’\n",
            "\n",
            "PhysioNetChallenge2 100%[===================>] 479.17M  15.1MB/s    in 34s     \n",
            "\n",
            "2020-06-18 14:41:49 (14.3 MB/s) - ‘PhysioNetChallenge2020_Training_E.tar.gz’ saved [502442681/502442681]\n",
            "\n"
          ],
          "name": "stdout"
        }
      ]
    },
    {
      "cell_type": "code",
      "metadata": {
        "id": "zXRWLsFK-2dy",
        "colab_type": "code",
        "colab": {
          "base_uri": "https://localhost:8080/",
          "height": 33
        },
        "outputId": "a242f3e1-665f-433f-ffa6-0255f91e728e"
      },
      "source": [
        "def extract_tar(tar_file):\n",
        "    \"\"\"\n",
        "    \n",
        "    \"\"\"\n",
        "    tarf = tarfile.open(tar_file)\n",
        "    tarf.extractall()\n",
        "    tarf.close()  \n",
        "\n",
        "[extract_tar(tar_file) for tar_file in glob.glob('*.tar.gz')]\n",
        "\n",
        "!rm *tar.gz\n",
        "!ls"
      ],
      "execution_count": 24,
      "outputs": [
        {
          "output_type": "stream",
          "text": [
            "Training_2  Training_PTB  Training_StPetersburg  Training_WFDB\tWFDB\n"
          ],
          "name": "stdout"
        }
      ]
    },
    {
      "cell_type": "code",
      "metadata": {
        "id": "BRtKk6p3-N3e",
        "colab_type": "code",
        "colab": {}
      },
      "source": [
        ""
      ],
      "execution_count": 26,
      "outputs": []
    },
    {
      "cell_type": "code",
      "metadata": {
        "id": "xLvbALRv-OIX",
        "colab_type": "code",
        "colab": {}
      },
      "source": [
        "df_y_code = pd.read_csv(\"https://raw.githubusercontent.com/physionetchallenges/physionetchallenges.github.io/master/2020/Dx_map.csv\")\n",
        "arr_y_code = np.array(df_y_code.iloc[:,1])"
      ],
      "execution_count": 126,
      "outputs": []
    },
    {
      "cell_type": "code",
      "metadata": {
        "id": "fLtdGvew-OK_",
        "colab_type": "code",
        "colab": {
          "base_uri": "https://localhost:8080/",
          "height": 50
        },
        "outputId": "fc44018d-c2a1-4192-f923-cbf43c39a1cd"
      },
      "source": [
        "def get_files(input_directory):\n",
        "    \"\"\"\n",
        "    \n",
        "    \"\"\"\n",
        "    input_files = []\n",
        "    for f in os.listdir(input_directory):\n",
        "        if os.path.isfile(os.path.join(input_directory, f)) and not f.lower().startswith('.') and f.lower().endswith('mat'):\n",
        "            input_files.append(os.path.join(input_directory,f))\n",
        "    return input_files\n",
        "\n",
        "files = get_files(input_directory = 'WFDB')\n",
        "print(f\"Number of files: {len(files)}\")\n",
        "print(f\"Some filenames: {files[:5]}\")"
      ],
      "execution_count": 122,
      "outputs": [
        {
          "output_type": "stream",
          "text": [
            "Number of files: 32181\n",
            "Some filenames: ['WFDB/HR11234.mat', 'WFDB/E04863.mat', 'WFDB/HR18042.mat', 'WFDB/HR08185.mat', 'WFDB/HR08768.mat']\n"
          ],
          "name": "stdout"
        }
      ]
    },
    {
      "cell_type": "code",
      "metadata": {
        "id": "hz48cJDDQHWd",
        "colab_type": "code",
        "colab": {
          "base_uri": "https://localhost:8080/",
          "height": 33
        },
        "outputId": "c0a78aae-efd5-424b-ed25-fecc248e4c63"
      },
      "source": [
        "def create_y_arr(header_data):\n",
        "    \"\"\"\n",
        "    \n",
        "    \"\"\"\n",
        "    np.array(header_data[15].replace(\"#Dx: \",\"\").replace(\"\\n\",\"\").split(\",\"), dtype=int)\n",
        "\n",
        "    Y = np.array(np.isin(arr_y_code, y), dtype=int)\n",
        "    \n",
        "    return Y\n",
        "\n",
        "\n",
        "def load_challenge_data(filename):\n",
        "    \"\"\"\n",
        "    \n",
        "    \"\"\"\n",
        "    data = loadmat(filename)\n",
        "    X = np.asarray(data['val'], dtype=np.float64).flatten()\n",
        "\n",
        "    with open(os.path.join(filename.replace('.mat', '.hea')), 'r') as f:\n",
        "        header_data = f.readlines()\n",
        "    Y = create_y_arr(header_data)\n",
        "\n",
        "    return X, Y\n",
        "\n",
        "data, header_data = load_challenge_data(files[10])\n",
        "\n",
        "print(data.shape, header_data.shape)"
      ],
      "execution_count": 130,
      "outputs": [
        {
          "output_type": "stream",
          "text": [
            "(60000,) (107,)\n"
          ],
          "name": "stdout"
        }
      ]
    },
    {
      "cell_type": "code",
      "metadata": {
        "id": "bIRjZmjF-ONV",
        "colab_type": "code",
        "colab": {}
      },
      "source": [
        ""
      ],
      "execution_count": 130,
      "outputs": []
    },
    {
      "cell_type": "code",
      "metadata": {
        "id": "PjF4psUqPDqa",
        "colab_type": "code",
        "colab": {}
      },
      "source": [
        ""
      ],
      "execution_count": 130,
      "outputs": []
    },
    {
      "cell_type": "code",
      "metadata": {
        "id": "0bHfJjg8-OP8",
        "colab_type": "code",
        "colab": {}
      },
      "source": [
        ""
      ],
      "execution_count": 116,
      "outputs": []
    },
    {
      "cell_type": "code",
      "metadata": {
        "id": "cadFgTu3L7d6",
        "colab_type": "code",
        "colab": {}
      },
      "source": [
        ""
      ],
      "execution_count": 116,
      "outputs": []
    }
  ]
}