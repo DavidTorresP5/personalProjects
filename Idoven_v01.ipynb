{
  "nbformat": 4,
  "nbformat_minor": 0,
  "metadata": {
    "colab": {
      "name": "Idoven_preprocess.ipynb",
      "provenance": [],
      "collapsed_sections": [],
      "toc_visible": true,
      "authorship_tag": "ABX9TyMZL4LEUE1DByqM8aFYI17t",
      "include_colab_link": true
    },
    "kernelspec": {
      "name": "python3",
      "display_name": "Python 3"
    },
    "accelerator": "GPU"
  },
  "cells": [
    {
      "cell_type": "markdown",
      "metadata": {
        "id": "view-in-github",
        "colab_type": "text"
      },
      "source": [
        "<a href=\"https://colab.research.google.com/github/DavidTorresP5/personalProjects/blob/master/Idoven_v01.ipynb\" target=\"_parent\"><img src=\"https://colab.research.google.com/assets/colab-badge.svg\" alt=\"Open In Colab\"/></a>"
      ]
    },
    {
      "cell_type": "markdown",
      "metadata": {
        "id": "8dVtCI4QOIBb",
        "colab_type": "text"
      },
      "source": [
        "# Idoven"
      ]
    },
    {
      "cell_type": "code",
      "metadata": {
        "id": "2i7Z3bJH9ZGg",
        "colab_type": "code",
        "colab": {}
      },
      "source": [
        "import os\n",
        "import glob\n",
        "import sys\n",
        "import tarfile\n",
        "import pprint\n",
        "import random\n",
        "import numpy as np\n",
        "import pandas as pd\n",
        "from scipy.io import loadmat\n",
        "from sklearn.model_selection import train_test_split\n",
        "import matplotlib.pyplot as plt\n",
        "import tensorflow as tf\n",
        "from tensorflow.keras import layers, models, metrics\n",
        "\n",
        "%matplotlib inline\n",
        "np.random.seed(1)"
      ],
      "execution_count": 1,
      "outputs": []
    },
    {
      "cell_type": "markdown",
      "metadata": {
        "id": "32QuK6K8OOyJ",
        "colab_type": "text"
      },
      "source": [
        "## Download & preprocess data"
      ]
    },
    {
      "cell_type": "code",
      "metadata": {
        "id": "FVy6kQNl9UeO",
        "colab_type": "code",
        "colab": {
          "base_uri": "https://localhost:8080/",
          "height": 408
        },
        "outputId": "04ccb12d-7c10-4205-c0b2-84f859a7fc5c"
      },
      "source": [
        "!rm -rf ./*\n",
        "\"\"\"\n",
        "! wget -O PhysioNetChallenge2020_Training_CPSC.tar.gz \\\n",
        "https://cloudypipeline.com:9555/api/download/physionet2020training/PhysioNetChallenge2020_Training_CPSC.tar.gz/\n",
        "\n",
        "! wget -O PhysioNetChallenge2020_Training_2.tar.gz \\\n",
        "https://cloudypipeline.com:9555/api/download/physionet2020training/PhysioNetChallenge2020_Training_2.tar.gz/\n",
        "! wget -O PhysioNetChallenge2020_Training_StPetersburg.tar.gz \\\n",
        "https://cloudypipeline.com:9555/api/download/physionet2020training/PhysioNetChallenge2020_Training_StPetersburg.tar.gz/\n",
        "! wget -O PhysioNetChallenge2020_Training_PTB.tar.gz \\\n",
        "https://cloudypipeline.com:9555/api/download/physionet2020training/PhysioNetChallenge2020_Training_PTB.tar.gz/\n",
        "\"\"\"\n",
        "! wget -O PhysioNetChallenge2020_PTB-XL.tar.gz \\\n",
        "https://cloudypipeline.com:9555/api/download/physionet2020training/PhysioNetChallenge2020_PTB-XL.tar.gz/\n",
        "! wget -O PhysioNetChallenge2020_Training_E.tar.gz \\\n",
        "https://cloudypipeline.com:9555/api/download/physionet2020training/PhysioNetChallenge2020_Training_E.tar.gz/\n"
      ],
      "execution_count": 2,
      "outputs": [
        {
          "output_type": "stream",
          "text": [
            "--2020-06-20 15:54:11--  https://cloudypipeline.com:9555/api/download/physionet2020training/PhysioNetChallenge2020_PTB-XL.tar.gz/\n",
            "Resolving cloudypipeline.com (cloudypipeline.com)... 34.74.104.185\n",
            "Connecting to cloudypipeline.com (cloudypipeline.com)|34.74.104.185|:9555... connected.\n",
            "HTTP request sent, awaiting response... 200 \n",
            "Length: 1448248661 (1.3G) [application/octet-stream]\n",
            "Saving to: ‘PhysioNetChallenge2020_PTB-XL.tar.gz’\n",
            "\n",
            "PhysioNetChallenge2 100%[===================>]   1.35G  33.1MB/s    in 41s     \n",
            "\n",
            "2020-06-20 15:54:52 (33.7 MB/s) - ‘PhysioNetChallenge2020_PTB-XL.tar.gz’ saved [1448248661/1448248661]\n",
            "\n",
            "--2020-06-20 15:54:53--  https://cloudypipeline.com:9555/api/download/physionet2020training/PhysioNetChallenge2020_Training_E.tar.gz/\n",
            "Resolving cloudypipeline.com (cloudypipeline.com)... 34.74.104.185\n",
            "Connecting to cloudypipeline.com (cloudypipeline.com)|34.74.104.185|:9555... connected.\n",
            "HTTP request sent, awaiting response... 200 \n",
            "Length: 502442681 (479M) [application/octet-stream]\n",
            "Saving to: ‘PhysioNetChallenge2020_Training_E.tar.gz’\n",
            "\n",
            "PhysioNetChallenge2 100%[===================>] 479.17M  32.8MB/s    in 15s     \n",
            "\n",
            "2020-06-20 15:55:08 (32.9 MB/s) - ‘PhysioNetChallenge2020_Training_E.tar.gz’ saved [502442681/502442681]\n",
            "\n"
          ],
          "name": "stdout"
        }
      ]
    },
    {
      "cell_type": "code",
      "metadata": {
        "id": "zXRWLsFK-2dy",
        "colab_type": "code",
        "colab": {
          "base_uri": "https://localhost:8080/",
          "height": 35
        },
        "outputId": "084cd194-9fab-4034-c3ae-8cc70e39d9b9"
      },
      "source": [
        "def extract_tar(tar_file):\n",
        "    \"\"\"\n",
        "    \n",
        "    \"\"\"\n",
        "    tarf = tarfile.open(tar_file)\n",
        "    tarf.extractall()\n",
        "    tarf.close()  \n",
        "\n",
        "[extract_tar(tar_file) for tar_file in glob.glob('*.tar.gz')]\n",
        "\n",
        "!rm *tar.gz\n",
        "!ls"
      ],
      "execution_count": 3,
      "outputs": [
        {
          "output_type": "stream",
          "text": [
            "WFDB\n"
          ],
          "name": "stdout"
        }
      ]
    },
    {
      "cell_type": "code",
      "metadata": {
        "id": "xLvbALRv-OIX",
        "colab_type": "code",
        "colab": {
          "base_uri": "https://localhost:8080/",
          "height": 52
        },
        "outputId": "2717da72-2157-4f27-98bc-474a647a3c17"
      },
      "source": [
        "df_y_code = pd.read_csv(\"https://raw.githubusercontent.com/physionetchallenges/physionetchallenges.github.io/master/2020/Dx_map.csv\")\n",
        "arr_y_code = np.array(df_y_code.iloc[:,1])\n",
        "arr_y_code[:10]"
      ],
      "execution_count": 4,
      "outputs": [
        {
          "output_type": "execute_result",
          "data": {
            "text/plain": [
              "array([270492004, 195042002, 164951009,  61277005, 426664006, 413444003,\n",
              "       426434006,  54329005, 164889003, 195080001])"
            ]
          },
          "metadata": {
            "tags": []
          },
          "execution_count": 4
        }
      ]
    },
    {
      "cell_type": "code",
      "metadata": {
        "id": "fLtdGvew-OK_",
        "colab_type": "code",
        "colab": {}
      },
      "source": [
        "def get_files(input_directory):\n",
        "    \"\"\"\n",
        "    \n",
        "    \"\"\"\n",
        "    input_files = []\n",
        "\n",
        "    for f in os.listdir(input_directory):\n",
        "        if os.path.isfile(os.path.join(input_directory, f)) and not f.lower().startswith('.') and f.lower().endswith('mat'):\n",
        "            input_files.append(os.path.join(input_directory,f))\n",
        "\n",
        "    return input_files\n",
        "\n",
        "def create_y_arr(header_data):\n",
        "    \"\"\"\n",
        "    \n",
        "    \"\"\"\n",
        "    y = np.array(header_data[15].replace(\"#Dx: \",\"\").replace(\"\\n\",\"\").split(\",\"), dtype=int)\n",
        "\n",
        "    Y = np.array(np.isin(arr_y_code, y), dtype=int)\n",
        "    \n",
        "    return Y\n",
        "\n",
        "\n",
        "def load_x_data_flatten(filename):\n",
        "    \"\"\"\n",
        "    \n",
        "    \"\"\"\n",
        "    data = loadmat(filename)\n",
        "    X = np.asarray(data['val'], dtype=int).flatten()\n",
        "    if X.shape[0] > 60000:\n",
        "      X = X[:60000]\n",
        "    else:\n",
        "      X = np.pad(X, pad_width=(0,60000-X.shape[0]))\n",
        "    return X\n",
        "\n",
        "def load_x_data(filename):\n",
        "    \"\"\"\n",
        "    \n",
        "    \"\"\"\n",
        "    data = loadmat(filename)\n",
        "    X = np.transpose(np.asarray(data['val'], dtype=np.float32))\n",
        "    return (X - np.min(X))/np.ptp(X)\n",
        "\n",
        "def load_y_data(filename):\n",
        "    \"\"\"\n",
        "    \n",
        "    \"\"\"\n",
        "    with open(os.path.join(filename.replace('.mat', '.hea')), 'r') as f:\n",
        "        header_data = f.readlines()\n",
        "    Y = create_y_arr(header_data)\n",
        "    return Y\n"
      ],
      "execution_count": 5,
      "outputs": []
    },
    {
      "cell_type": "code",
      "metadata": {
        "id": "hz48cJDDQHWd",
        "colab_type": "code",
        "colab": {
          "base_uri": "https://localhost:8080/",
          "height": 70
        },
        "outputId": "04169290-ddbe-46a9-9cd3-859958c9e771"
      },
      "source": [
        "files = get_files(input_directory = 'WFDB')\n",
        "print(f\"Number of files: {len(files)}\")\n",
        "\n",
        "#files = random.sample(files, 5000)\n",
        "print(f\"Number of sample files: {len(files)}\")\n",
        "print(f\"Some filenames: {files[:5]}\")"
      ],
      "execution_count": 6,
      "outputs": [
        {
          "output_type": "stream",
          "text": [
            "Number of files: 32181\n",
            "Number of sample files: 32181\n",
            "Some filenames: ['WFDB/HR07811.mat', 'WFDB/E08179.mat', 'WFDB/HR02452.mat', 'WFDB/HR16353.mat', 'WFDB/HR09280.mat']\n"
          ],
          "name": "stdout"
        }
      ]
    },
    {
      "cell_type": "code",
      "metadata": {
        "id": "gSeR9bOGKYOL",
        "colab_type": "code",
        "colab": {}
      },
      "source": [
        "X = [load_x_data(file) for file in files[:20000]]\n",
        "X = np.array([np.pad(x, pad_width=[(0,5000-x.shape[0]), (0, 0)]) if x.shape[0] != 5000 else x for x in X ])\n",
        "#X = np.array( [x for x in X if x.shape == (5000,12)])"
      ],
      "execution_count": 7,
      "outputs": []
    },
    {
      "cell_type": "code",
      "metadata": {
        "id": "b76syo7Hskco",
        "colab_type": "code",
        "colab": {
          "base_uri": "https://localhost:8080/",
          "height": 52
        },
        "outputId": "bb8c56c6-fe26-4bdb-eb69-6dbb88e28685"
      },
      "source": [
        "Y = np.vstack([load_y_data(file) for file in files[:20000]])\n",
        "print(f\"X dims: {X.shape}\")\n",
        "print(f\"Y dims: {Y.shape}\")"
      ],
      "execution_count": 8,
      "outputs": [
        {
          "output_type": "stream",
          "text": [
            "X dims: (20000, 5000, 12)\n",
            "Y dims: (20000, 107)\n"
          ],
          "name": "stdout"
        }
      ]
    },
    {
      "cell_type": "code",
      "metadata": {
        "id": "WsYG-5rQ6Pa8",
        "colab_type": "code",
        "colab": {
          "base_uri": "https://localhost:8080/",
          "height": 194
        },
        "outputId": "96e252d0-2d19-4c89-8102-26e67558650c"
      },
      "source": [
        "freq_y = np.sum(Y, axis = 0)\n",
        "df_y_code['freq'] = freq_y\n",
        "df_y_code.sort_values(by='freq', ascending=False).head(5)"
      ],
      "execution_count": 9,
      "outputs": [
        {
          "output_type": "execute_result",
          "data": {
            "text/html": [
              "<div>\n",
              "<style scoped>\n",
              "    .dataframe tbody tr th:only-of-type {\n",
              "        vertical-align: middle;\n",
              "    }\n",
              "\n",
              "    .dataframe tbody tr th {\n",
              "        vertical-align: top;\n",
              "    }\n",
              "\n",
              "    .dataframe thead th {\n",
              "        text-align: right;\n",
              "    }\n",
              "</style>\n",
              "<table border=\"1\" class=\"dataframe\">\n",
              "  <thead>\n",
              "    <tr style=\"text-align: right;\">\n",
              "      <th></th>\n",
              "      <th>dx</th>\n",
              "      <th>SNOMED code</th>\n",
              "      <th>Abbreviation</th>\n",
              "      <th>freq</th>\n",
              "    </tr>\n",
              "  </thead>\n",
              "  <tbody>\n",
              "    <tr>\n",
              "      <th>82</th>\n",
              "      <td>sinus rhythm</td>\n",
              "      <td>426783006</td>\n",
              "      <td>SNR</td>\n",
              "      <td>12425</td>\n",
              "    </tr>\n",
              "    <tr>\n",
              "      <th>46</th>\n",
              "      <td>left axis deviation</td>\n",
              "      <td>39732003</td>\n",
              "      <td>LAD</td>\n",
              "      <td>3843</td>\n",
              "    </tr>\n",
              "    <tr>\n",
              "      <th>57</th>\n",
              "      <td>myocardial infarction</td>\n",
              "      <td>164865005</td>\n",
              "      <td>MI</td>\n",
              "      <td>3323</td>\n",
              "    </tr>\n",
              "    <tr>\n",
              "      <th>90</th>\n",
              "      <td>t wave abnormal</td>\n",
              "      <td>164934002</td>\n",
              "      <td>TAb</td>\n",
              "      <td>2866</td>\n",
              "    </tr>\n",
              "    <tr>\n",
              "      <th>49</th>\n",
              "      <td>left ventricular hypertrophy</td>\n",
              "      <td>164873001</td>\n",
              "      <td>LVH</td>\n",
              "      <td>2258</td>\n",
              "    </tr>\n",
              "  </tbody>\n",
              "</table>\n",
              "</div>"
            ],
            "text/plain": [
              "                              dx  SNOMED code Abbreviation   freq\n",
              "82                  sinus rhythm    426783006          SNR  12425\n",
              "46           left axis deviation     39732003          LAD   3843\n",
              "57         myocardial infarction    164865005           MI   3323\n",
              "90               t wave abnormal    164934002          TAb   2866\n",
              "49  left ventricular hypertrophy    164873001          LVH   2258"
            ]
          },
          "metadata": {
            "tags": []
          },
          "execution_count": 9
        }
      ]
    },
    {
      "cell_type": "code",
      "metadata": {
        "id": "7P_Px_7G42Wu",
        "colab_type": "code",
        "colab": {
          "base_uri": "https://localhost:8080/",
          "height": 555
        },
        "outputId": "0fc99259-a73f-49cb-d68f-7ff3658b4db5"
      },
      "source": [
        "patient_number = 501\n",
        "pprint.pprint(df_y_code[\"dx\"][np.array(Y[patient_number],dtype=bool)].tolist())\n",
        "\n",
        "fig = plt.figure(figsize=(18, 9))\n",
        "for i in range(12):\n",
        "  plt.subplot(3, 4, i+1)\n",
        "  plt.plot(X[patient_number,:,i],color= 'red', linewidth=0.5)\n",
        "plt.show()\n"
      ],
      "execution_count": 10,
      "outputs": [
        {
          "output_type": "stream",
          "text": [
            "['sinus rhythm']\n"
          ],
          "name": "stdout"
        },
        {
          "output_type": "display_data",
          "data": {
            "image/png": "[encoded data removed]",
            "text/plain": [
              "<Figure size 1296x648 with 12 Axes>"
            ]
          },
          "metadata": {
            "tags": [],
            "needs_background": "light"
          }
        }
      ]
    },
    {
      "cell_type": "code",
      "metadata": {
        "id": "fIEfHlYkijEe",
        "colab_type": "code",
        "colab": {
          "base_uri": "https://localhost:8080/",
          "height": 88
        },
        "outputId": "38bf3c92-81e7-4cc8-b24a-10d8798c536f"
      },
      "source": [
        "X_train, X_test, Y_train, Y_test = train_test_split(X, Y, test_size=0.05, random_state=1)\n",
        "\n",
        "print(f\"Train:\\nX:{X_train.shape} | Y:{Y_train.shape}\")\n",
        "print(f\"Test:\\nX:{X_test.shape} | Y:{Y_test.shape}\")"
      ],
      "execution_count": 11,
      "outputs": [
        {
          "output_type": "stream",
          "text": [
            "Train:\n",
            "X:(19000, 5000, 12) | Y:(19000, 107)\n",
            "Test:\n",
            "X:(1000, 5000, 12) | Y:(1000, 107)\n"
          ],
          "name": "stdout"
        }
      ]
    },
    {
      "cell_type": "code",
      "metadata": {
        "id": "0bHfJjg8-OP8",
        "colab_type": "code",
        "colab": {
          "base_uri": "https://localhost:8080/",
          "height": 35
        },
        "outputId": "1cbe78c4-b6c4-4dd8-e452-2c6b0120c14b"
      },
      "source": [
        "import gc\n",
        "\n",
        "del X, Y\n",
        "gc.collect()"
      ],
      "execution_count": 12,
      "outputs": [
        {
          "output_type": "execute_result",
          "data": {
            "text/plain": [
              "196"
            ]
          },
          "metadata": {
            "tags": []
          },
          "execution_count": 12
        }
      ]
    },
    {
      "cell_type": "code",
      "metadata": {
        "id": "C4PrR1CyX0zw",
        "colab_type": "code",
        "colab": {
          "base_uri": "https://localhost:8080/",
          "height": 35
        },
        "outputId": "7d51d855-a17f-4be6-93f2-063c065b3726"
      },
      "source": [
        "gc.collect()"
      ],
      "execution_count": 13,
      "outputs": [
        {
          "output_type": "execute_result",
          "data": {
            "text/plain": [
              "0"
            ]
          },
          "metadata": {
            "tags": []
          },
          "execution_count": 13
        }
      ]
    },
    {
      "cell_type": "markdown",
      "metadata": {
        "id": "zM2iUVrwN_NT",
        "colab_type": "text"
      },
      "source": [
        "## TensorFlow Model\n"
      ]
    },
    {
      "cell_type": "code",
      "metadata": {
        "id": "Y9ttGDqmSQsd",
        "colab_type": "code",
        "colab": {}
      },
      "source": [
        "model = models.Sequential()\n",
        "\n",
        "# Block 0\n",
        "model.add(layers.Conv1D(25, 5, input_shape=(5000, 12), name='conv0'))\n",
        "model.add(layers.BatchNormalization(axis=2, name='bn0'))\n",
        "model.add(layers.Activation('relu'))\n",
        "\n",
        "model.add(layers.MaxPooling1D(3,name='max_pool0'))\n",
        "\n",
        "# Block 1\n",
        "model.add(layers.Conv1D(25, 5, name='conv1'))\n",
        "model.add(layers.BatchNormalization(axis=2, name='bn1'))\n",
        "model.add(layers.Activation('relu'))\n",
        "\n",
        "model.add(layers.MaxPooling1D(3,name='max_pool1'))\n",
        "\n",
        "# Block 2\n",
        "model.add(layers.Conv1D(25, 5, name='conv2'))\n",
        "model.add(layers.BatchNormalization(axis=2, name='bn2'))\n",
        "model.add(layers.Activation('relu'))\n",
        "\n",
        "model.add(layers.MaxPooling1D(3,name='max_pool2'))\n",
        "\n",
        "# Block 3\n",
        "model.add(layers.Conv1D(15, 3, name='conv3'))\n",
        "model.add(layers.BatchNormalization(axis=2, name='bn3'))\n",
        "model.add(layers.Activation('relu'))\n",
        "\n",
        "model.add(layers.MaxPooling1D(3,name='max_pool3'))\n",
        "\n",
        "# Block 4\n",
        "model.add(layers.Conv1D(15, 3, name='conv4'))\n",
        "model.add(layers.BatchNormalization(axis=2, name='bn4'))\n",
        "model.add(layers.Activation('relu'))\n",
        "\n",
        "model.add(layers.MaxPooling1D(2,name='max_pool4'))\n",
        "\n",
        "# Block 5\n",
        "model.add(layers.Conv1D(15, 3, name='conv5'))\n",
        "model.add(layers.BatchNormalization(axis=2, name='bn5'))\n",
        "model.add(layers.Activation('relu'))\n",
        "\n",
        "model.add(layers.MaxPooling1D(2,name='max_pool5'))\n",
        "\"\"\"\"\"\"\n",
        "\n",
        "# Flatten & softmax\n",
        "model.add(layers.Flatten())\n",
        "\n",
        "model.add(layers.Dense(107, activation='softmax', name='fc'))\n",
        "\n"
      ],
      "execution_count": 24,
      "outputs": []
    },
    {
      "cell_type": "code",
      "metadata": {
        "id": "BJ2fx3lImLQ1",
        "colab_type": "code",
        "colab": {
          "base_uri": "https://localhost:8080/",
          "height": 1000
        },
        "outputId": "7205cca5-2a6d-47fd-9c69-42bece305e8b"
      },
      "source": [
        "model.summary()"
      ],
      "execution_count": 25,
      "outputs": [
        {
          "output_type": "stream",
          "text": [
            "Model: \"sequential_3\"\n",
            "_________________________________________________________________\n",
            "Layer (type)                 Output Shape              Param #   \n",
            "=================================================================\n",
            "conv0 (Conv1D)               (None, 4996, 25)          1525      \n",
            "_________________________________________________________________\n",
            "bn0 (BatchNormalization)     (None, 4996, 25)          100       \n",
            "_________________________________________________________________\n",
            "activation_16 (Activation)   (None, 4996, 25)          0         \n",
            "_________________________________________________________________\n",
            "max_pool0 (MaxPooling1D)     (None, 1665, 25)          0         \n",
            "_________________________________________________________________\n",
            "conv1 (Conv1D)               (None, 1661, 25)          3150      \n",
            "_________________________________________________________________\n",
            "bn1 (BatchNormalization)     (None, 1661, 25)          100       \n",
            "_________________________________________________________________\n",
            "activation_17 (Activation)   (None, 1661, 25)          0         \n",
            "_________________________________________________________________\n",
            "max_pool1 (MaxPooling1D)     (None, 553, 25)           0         \n",
            "_________________________________________________________________\n",
            "conv2 (Conv1D)               (None, 549, 25)           3150      \n",
            "_________________________________________________________________\n",
            "bn2 (BatchNormalization)     (None, 549, 25)           100       \n",
            "_________________________________________________________________\n",
            "activation_18 (Activation)   (None, 549, 25)           0         \n",
            "_________________________________________________________________\n",
            "max_pool2 (MaxPooling1D)     (None, 183, 25)           0         \n",
            "_________________________________________________________________\n",
            "conv3 (Conv1D)               (None, 181, 15)           1140      \n",
            "_________________________________________________________________\n",
            "bn3 (BatchNormalization)     (None, 181, 15)           60        \n",
            "_________________________________________________________________\n",
            "activation_19 (Activation)   (None, 181, 15)           0         \n",
            "_________________________________________________________________\n",
            "max_pool3 (MaxPooling1D)     (None, 60, 15)            0         \n",
            "_________________________________________________________________\n",
            "conv4 (Conv1D)               (None, 58, 15)            690       \n",
            "_________________________________________________________________\n",
            "bn4 (BatchNormalization)     (None, 58, 15)            60        \n",
            "_________________________________________________________________\n",
            "activation_20 (Activation)   (None, 58, 15)            0         \n",
            "_________________________________________________________________\n",
            "max_pool4 (MaxPooling1D)     (None, 29, 15)            0         \n",
            "_________________________________________________________________\n",
            "conv5 (Conv1D)               (None, 27, 15)            690       \n",
            "_________________________________________________________________\n",
            "bn5 (BatchNormalization)     (None, 27, 15)            60        \n",
            "_________________________________________________________________\n",
            "activation_21 (Activation)   (None, 27, 15)            0         \n",
            "_________________________________________________________________\n",
            "max_pool5 (MaxPooling1D)     (None, 13, 15)            0         \n",
            "_________________________________________________________________\n",
            "flatten_2 (Flatten)          (None, 195)               0         \n",
            "_________________________________________________________________\n",
            "fc (Dense)                   (None, 107)               20972     \n",
            "=================================================================\n",
            "Total params: 31,797\n",
            "Trainable params: 31,557\n",
            "Non-trainable params: 240\n",
            "_________________________________________________________________\n"
          ],
          "name": "stdout"
        }
      ]
    },
    {
      "cell_type": "code",
      "metadata": {
        "id": "wHkAeQVNSPIl",
        "colab_type": "code",
        "colab": {
          "base_uri": "https://localhost:8080/",
          "height": 1000
        },
        "outputId": "97e27050-85ec-4729-fc37-5c1055b404df"
      },
      "source": [
        "model.compile(optimizer='adam',\n",
        "              loss=tf.keras.losses.CategoricalCrossentropy(from_logits=True),\n",
        "              metrics=[\"accuracy\"])\n",
        "\n",
        "history = model.fit(X_train, Y_train, epochs=50, batch_size=50,\n",
        "                    validation_data=(X_test, Y_test))"
      ],
      "execution_count": 26,
      "outputs": [
        {
          "output_type": "stream",
          "text": [
            "Epoch 1/50\n",
            "380/380 [==============================] - 6s 17ms/step - loss: 11.0444 - accuracy: 0.2752 - val_loss: 11.0297 - val_accuracy: 0.2850\n",
            "Epoch 2/50\n",
            "380/380 [==============================] - 6s 17ms/step - loss: 10.9567 - accuracy: 0.3026 - val_loss: 10.9792 - val_accuracy: 0.3060\n",
            "Epoch 3/50\n",
            "380/380 [==============================] - 6s 16ms/step - loss: 10.9461 - accuracy: 0.3056 - val_loss: 10.9683 - val_accuracy: 0.2990\n",
            "Epoch 4/50\n",
            "380/380 [==============================] - 6s 16ms/step - loss: 10.9430 - accuracy: 0.3067 - val_loss: 10.9738 - val_accuracy: 0.2970\n",
            "Epoch 5/50\n",
            "380/380 [==============================] - 6s 16ms/step - loss: 10.9395 - accuracy: 0.3072 - val_loss: 10.9653 - val_accuracy: 0.3040\n",
            "Epoch 6/50\n",
            "380/380 [==============================] - 6s 16ms/step - loss: 10.9380 - accuracy: 0.3084 - val_loss: 10.9660 - val_accuracy: 0.3110\n",
            "Epoch 7/50\n",
            "380/380 [==============================] - 6s 16ms/step - loss: 10.9372 - accuracy: 0.3081 - val_loss: 10.9759 - val_accuracy: 0.2980\n",
            "Epoch 8/50\n",
            "380/380 [==============================] - 6s 16ms/step - loss: 10.9361 - accuracy: 0.3075 - val_loss: 10.9714 - val_accuracy: 0.2940\n",
            "Epoch 9/50\n",
            "380/380 [==============================] - 6s 16ms/step - loss: 10.9348 - accuracy: 0.3084 - val_loss: 10.9603 - val_accuracy: 0.3080\n",
            "Epoch 10/50\n",
            "380/380 [==============================] - 6s 16ms/step - loss: 10.9345 - accuracy: 0.3084 - val_loss: 10.9648 - val_accuracy: 0.3050\n",
            "Epoch 11/50\n",
            "380/380 [==============================] - 6s 16ms/step - loss: 10.9328 - accuracy: 0.3101 - val_loss: 10.9676 - val_accuracy: 0.2960\n",
            "Epoch 12/50\n",
            "380/380 [==============================] - 6s 16ms/step - loss: 10.9317 - accuracy: 0.3098 - val_loss: 10.9610 - val_accuracy: 0.3050\n",
            "Epoch 13/50\n",
            "380/380 [==============================] - 6s 16ms/step - loss: 10.9320 - accuracy: 0.3092 - val_loss: 10.9634 - val_accuracy: 0.3020\n",
            "Epoch 14/50\n",
            "380/380 [==============================] - 6s 16ms/step - loss: 10.9319 - accuracy: 0.3104 - val_loss: 10.9645 - val_accuracy: 0.3070\n",
            "Epoch 15/50\n",
            "380/380 [==============================] - 6s 16ms/step - loss: 10.9283 - accuracy: 0.3137 - val_loss: 10.9563 - val_accuracy: 0.3200\n",
            "Epoch 16/50\n",
            "380/380 [==============================] - 6s 16ms/step - loss: 10.9206 - accuracy: 0.3235 - val_loss: 10.9562 - val_accuracy: 0.3370\n",
            "Epoch 17/50\n",
            "380/380 [==============================] - 6s 16ms/step - loss: 10.9122 - accuracy: 0.3340 - val_loss: 10.9472 - val_accuracy: 0.3350\n",
            "Epoch 18/50\n",
            "380/380 [==============================] - 6s 16ms/step - loss: 10.9094 - accuracy: 0.3371 - val_loss: 10.9494 - val_accuracy: 0.3310\n",
            "Epoch 19/50\n",
            "380/380 [==============================] - 6s 16ms/step - loss: 10.9058 - accuracy: 0.3382 - val_loss: 10.9432 - val_accuracy: 0.3150\n",
            "Epoch 20/50\n",
            "380/380 [==============================] - 6s 16ms/step - loss: 10.9031 - accuracy: 0.3399 - val_loss: 10.9449 - val_accuracy: 0.3420\n",
            "Epoch 21/50\n",
            "380/380 [==============================] - 6s 16ms/step - loss: 10.9025 - accuracy: 0.3409 - val_loss: 10.9342 - val_accuracy: 0.3350\n",
            "Epoch 22/50\n",
            "380/380 [==============================] - 6s 16ms/step - loss: 10.8999 - accuracy: 0.3419 - val_loss: 10.9373 - val_accuracy: 0.3330\n",
            "Epoch 23/50\n",
            "380/380 [==============================] - 6s 16ms/step - loss: 10.9000 - accuracy: 0.3412 - val_loss: 10.9433 - val_accuracy: 0.3450\n",
            "Epoch 24/50\n",
            "380/380 [==============================] - 6s 16ms/step - loss: 10.8985 - accuracy: 0.3436 - val_loss: 10.9319 - val_accuracy: 0.3310\n",
            "Epoch 25/50\n",
            "380/380 [==============================] - 6s 16ms/step - loss: 10.8969 - accuracy: 0.3436 - val_loss: 10.9270 - val_accuracy: 0.3460\n",
            "Epoch 26/50\n",
            "380/380 [==============================] - 6s 16ms/step - loss: 10.8951 - accuracy: 0.3440 - val_loss: 10.9361 - val_accuracy: 0.3340\n",
            "Epoch 27/50\n",
            "380/380 [==============================] - 6s 16ms/step - loss: 10.8950 - accuracy: 0.3452 - val_loss: 10.9314 - val_accuracy: 0.3460\n",
            "Epoch 28/50\n",
            "380/380 [==============================] - 6s 16ms/step - loss: 10.8949 - accuracy: 0.3462 - val_loss: 10.9443 - val_accuracy: 0.3330\n",
            "Epoch 29/50\n",
            "380/380 [==============================] - 6s 16ms/step - loss: 10.8925 - accuracy: 0.3466 - val_loss: 10.9648 - val_accuracy: 0.3420\n",
            "Epoch 30/50\n",
            "380/380 [==============================] - 6s 16ms/step - loss: 10.8923 - accuracy: 0.3455 - val_loss: 10.9398 - val_accuracy: 0.3250\n",
            "Epoch 31/50\n",
            "380/380 [==============================] - 6s 16ms/step - loss: 10.8916 - accuracy: 0.3475 - val_loss: 10.9232 - val_accuracy: 0.3410\n",
            "Epoch 32/50\n",
            "380/380 [==============================] - 6s 16ms/step - loss: 10.8912 - accuracy: 0.3472 - val_loss: 10.9668 - val_accuracy: 0.3170\n",
            "Epoch 33/50\n",
            "380/380 [==============================] - 6s 16ms/step - loss: 10.8918 - accuracy: 0.3476 - val_loss: 10.9370 - val_accuracy: 0.3500\n",
            "Epoch 34/50\n",
            "380/380 [==============================] - 6s 16ms/step - loss: 10.8886 - accuracy: 0.3486 - val_loss: 10.9235 - val_accuracy: 0.3330\n",
            "Epoch 35/50\n",
            "380/380 [==============================] - 6s 16ms/step - loss: 10.8914 - accuracy: 0.3472 - val_loss: 10.9372 - val_accuracy: 0.3430\n",
            "Epoch 36/50\n",
            "380/380 [==============================] - 6s 16ms/step - loss: 10.8876 - accuracy: 0.3485 - val_loss: 10.9342 - val_accuracy: 0.3370\n",
            "Epoch 37/50\n",
            "380/380 [==============================] - 6s 16ms/step - loss: 10.8864 - accuracy: 0.3489 - val_loss: 10.9234 - val_accuracy: 0.3440\n",
            "Epoch 38/50\n",
            "380/380 [==============================] - 6s 16ms/step - loss: 10.8867 - accuracy: 0.3491 - val_loss: 10.9212 - val_accuracy: 0.3390\n",
            "Epoch 39/50\n",
            "380/380 [==============================] - 6s 16ms/step - loss: 10.8864 - accuracy: 0.3490 - val_loss: 10.9246 - val_accuracy: 0.3420\n",
            "Epoch 40/50\n",
            "380/380 [==============================] - 6s 16ms/step - loss: 10.8865 - accuracy: 0.3487 - val_loss: 10.9403 - val_accuracy: 0.3430\n",
            "Epoch 41/50\n",
            "380/380 [==============================] - 6s 16ms/step - loss: 10.8864 - accuracy: 0.3487 - val_loss: 10.9334 - val_accuracy: 0.3400\n",
            "Epoch 42/50\n",
            "380/380 [==============================] - 6s 16ms/step - loss: 10.8853 - accuracy: 0.3497 - val_loss: 10.9417 - val_accuracy: 0.3230\n",
            "Epoch 43/50\n",
            "380/380 [==============================] - 6s 16ms/step - loss: 10.8836 - accuracy: 0.3511 - val_loss: 10.9311 - val_accuracy: 0.3400\n",
            "Epoch 44/50\n",
            "380/380 [==============================] - 6s 16ms/step - loss: 10.8841 - accuracy: 0.3509 - val_loss: 10.9193 - val_accuracy: 0.3470\n",
            "Epoch 45/50\n",
            "380/380 [==============================] - 6s 16ms/step - loss: 10.8833 - accuracy: 0.3506 - val_loss: 10.9493 - val_accuracy: 0.3140\n",
            "Epoch 46/50\n",
            "380/380 [==============================] - 6s 16ms/step - loss: 10.8832 - accuracy: 0.3509 - val_loss: 10.9261 - val_accuracy: 0.3390\n",
            "Epoch 47/50\n",
            "380/380 [==============================] - 6s 16ms/step - loss: 10.8826 - accuracy: 0.3512 - val_loss: 10.9272 - val_accuracy: 0.3440\n",
            "Epoch 48/50\n",
            "380/380 [==============================] - 6s 16ms/step - loss: 10.8820 - accuracy: 0.3516 - val_loss: 10.9262 - val_accuracy: 0.3370\n",
            "Epoch 49/50\n",
            "380/380 [==============================] - 6s 16ms/step - loss: 10.8830 - accuracy: 0.3514 - val_loss: 10.9457 - val_accuracy: 0.3230\n",
            "Epoch 50/50\n",
            "380/380 [==============================] - 6s 16ms/step - loss: 10.8828 - accuracy: 0.3509 - val_loss: 10.9386 - val_accuracy: 0.3410\n"
          ],
          "name": "stdout"
        }
      ]
    },
    {
      "cell_type": "code",
      "metadata": {
        "id": "APprZboxbBPM",
        "colab_type": "code",
        "colab": {}
      },
      "source": [
        ""
      ],
      "execution_count": 18,
      "outputs": []
    },
    {
      "cell_type": "code",
      "metadata": {
        "id": "3Ak_TdfCfg6M",
        "colab_type": "code",
        "colab": {
          "base_uri": "https://localhost:8080/",
          "height": 300
        },
        "outputId": "5390568f-0204-420d-ede4-21a7b83cad74"
      },
      "source": [
        "plt.plot(history.history['accuracy'], label='accuracy')\n",
        "plt.plot(history.history['val_accuracy'], label = 'val_accuracy')\n",
        "plt.xlabel('Epoch')\n",
        "plt.ylabel('Accuracy')\n",
        "plt.ylim([0, 1])\n",
        "plt.legend(loc='upper right')\n"
      ],
      "execution_count": 27,
      "outputs": [
        {
          "output_type": "execute_result",
          "data": {
            "text/plain": [
              "<matplotlib.legend.Legend at 0x7fba13531588>"
            ]
          },
          "metadata": {
            "tags": []
          },
          "execution_count": 27
        },
        {
          "output_type": "display_data",
          "data": {
            "image/png": "[encoded data removed]",
            "text/plain": [
              "<Figure size 432x288 with 1 Axes>"
            ]
          },
          "metadata": {
            "tags": [],
            "needs_background": "light"
          }
        }
      ]
    },
    {
      "cell_type": "code",
      "metadata": {
        "id": "ktgEllHZfhNr",
        "colab_type": "code",
        "colab": {}
      },
      "source": [
        ""
      ],
      "execution_count": null,
      "outputs": []
    }
  ]
}