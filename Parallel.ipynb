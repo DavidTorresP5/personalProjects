{
 "cells": [
  {
   "cell_type": "markdown",
   "metadata": {},
   "source": [
    "# Parallel in Python\n",
    "\n",
    "David Torres Pascual"
   ]
  },
  {
   "cell_type": "code",
   "execution_count": 1,
   "metadata": {
    "collapsed": false
   },
   "outputs": [
    {
     "name": "stdout",
     "output_type": "stream",
     "text": [
      "Installed autotime.py. To use it, type:\n",
      "  %load_ext autotime\n"
     ]
    }
   ],
   "source": [
    "from joblib import Parallel, delayed\n",
    "import multiprocessing\n",
    "\n",
    "import warnings\n",
    "warnings.filterwarnings('ignore')\n",
    "\n",
    "%install_ext https://raw.github.com/cpcloud/ipython-autotime/master/autotime.py\n",
    "%load_ext autotime"
   ]
  },
  {
   "cell_type": "code",
   "execution_count": 2,
   "metadata": {
    "collapsed": false
   },
   "outputs": [
    {
     "name": "stdout",
     "output_type": "stream",
     "text": [
      "This list has 100000 records\n",
      "The ten first records of this list are: [0, 1, 2, 3, 4, 5, 6, 7, 8, 9], and the last ones are: [99990, 99991, 99992, 99993, 99994, 99995, 99996, 99997, 99998, 99999]\n",
      "27.0\n",
      "time: 7.16 ms\n"
     ]
    }
   ],
   "source": [
    "mylist = list(range(100000))\n",
    "print('This list has {} records'.format(len(mylist)))\n",
    "print('The ten first records of this list are: {}, and the last ones are: {}'.format(mylist[:10], mylist[-10:]))\n",
    "\n",
    "\n",
    "def myFunction(elem):\n",
    "    '''\n",
    "    input:  a number\n",
    "    output: the cube of that number\n",
    "    '''\n",
    "    return float(elem)**3\n",
    "\n",
    "print(myFunction(3))"
   ]
  },
  {
   "cell_type": "code",
   "execution_count": 3,
   "metadata": {
    "collapsed": false
   },
   "outputs": [
    {
     "name": "stdout",
     "output_type": "stream",
     "text": [
      "This computer has 4 cores\n",
      "time: 156 ms\n"
     ]
    }
   ],
   "source": [
    "num_cores = multiprocessing.cpu_count()\n",
    "print('This computer has {} cores'.format(num_cores))"
   ]
  },
  {
   "cell_type": "code",
   "execution_count": 4,
   "metadata": {
    "collapsed": false
   },
   "outputs": [
    {
     "name": "stdout",
     "output_type": "stream",
     "text": [
      "This list has 100000 records\n",
      "The ten first records of this list are: [0.0, 1.0, 8.0, 27.0, 64.0, 125.0, 216.0, 343.0, 512.0, 729.0], and the last ones are: [999700029999000.0, 999730024299271.0, 999760019199488.0, 999790014699657.0, 999820010799784.0, 999850007499875.0, 999880004799936.0, 999910002699973.0, 999940001199992.0, 999970000299999.0]\n",
      "time: 951 ms\n"
     ]
    }
   ],
   "source": [
    "parallel_newlist = Parallel(n_jobs=num_cores)(delayed(myFunction)(elem) for elem in mylist)\n",
    "\n",
    "print('This list has {} records'.format(len(parallel_newlist)))\n",
    "print('The ten first records of this list are: {}, and the last ones are: {}'.format(parallel_newlist[:10], parallel_newlist[-10:]))"
   ]
  }
 ],
 "metadata": {
  "kernelspec": {
   "display_name": "Python 3",
   "language": "python",
   "name": "python3"
  },
  "language_info": {
   "codemirror_mode": {
    "name": "ipython",
    "version": 3
   },
   "file_extension": ".py",
   "mimetype": "text/x-python",
   "name": "python",
   "nbconvert_exporter": "python",
   "pygments_lexer": "ipython3",
   "version": "3.4.3"
  }
 },
 "nbformat": 4,
 "nbformat_minor": 0
}
